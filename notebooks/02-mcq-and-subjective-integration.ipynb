{
 "cells": [
  {
   "cell_type": "code",
   "execution_count": 1,
   "metadata": {},
   "outputs": [],
   "source": [
    "from dotenv import load_dotenv\n",
    "\n",
    "load_dotenv()\n",
    "\n",
    "import os\n",
    "\n",
    "os.environ[\"OPENAI_API_KEY\"] = os.getenv(\"OPENAI_API_KEY\")\n",
    "os.environ[\"LANGCHAIN_API_KEY\"] = os.getenv(\"LANGCHAIN_API_KEY\")\n",
    "os.environ[\"LANGCHAIN_TRACING_V2\"] = \"true\"\n",
    "os.environ[\"LANG_CHAIN_PROJECT\"] = \"test-preparer\"\n"
   ]
  },
  {
   "cell_type": "code",
   "execution_count": 2,
   "metadata": {},
   "outputs": [],
   "source": [
    "from langchain_openai import ChatOpenAI\n",
    "from langchain.prompts import PromptTemplate\n",
    "from langchain_core.output_parsers import JsonOutputParser\n",
    "from langchain_community.document_loaders import PyPDFLoader,TextLoader\n",
    "from langchain_community.document_loaders import Docx2txtLoader,UnstructuredPowerPointLoader\n",
    "from langchain.text_splitter import RecursiveCharacterTextSplitter\n",
    "from langchain.chains import LLMChain\n",
    "\n",
    "llm = ChatOpenAI(model=\"gpt-4o-mini\", temperature=0)"
   ]
  },
  {
   "cell_type": "code",
   "execution_count": 3,
   "metadata": {},
   "outputs": [],
   "source": [
    "def get_documents(file_path:str):\n",
    "      if file_path.endswith('.pdf'):\n",
    "            return PyPDFLoader(file_path).load()\n",
    "      elif file_path.endswith('.docx'):\n",
    "            return Docx2txtLoader(file_path).load()\n",
    "      elif file_path.endswith('.pptx'):\n",
    "            return UnstructuredPowerPointLoader(file_path).load()\n",
    "      elif file_path.endswith('.txt'):\n",
    "            return TextLoader(file_path).load()\n",
    "      else:\n",
    "            raise ValueError(f\"Unsupported file type: {file_path}\")"
   ]
  },
  {
   "cell_type": "code",
   "execution_count": 24,
   "metadata": {},
   "outputs": [
    {
     "data": {
      "text/plain": [
       "'../Unit 1.4 copy.pdf'"
      ]
     },
     "execution_count": 24,
     "metadata": {},
     "output_type": "execute_result"
    }
   ],
   "source": [
    "doc=('../Unit 1.4 copy.pdf')\n",
    "doc"
   ]
  },
  {
   "cell_type": "code",
   "execution_count": 7,
   "metadata": {},
   "outputs": [],
   "source": [
    "RESPONSE_JSON = \"\"\"{\n",
    "      \"mcq\":{\n",
    "            \"1\": {\n",
    "                  \"question\": \"multiple choice question here\",\n",
    "                  \"options\": {\n",
    "                      \"a\": \"choice here\",\n",
    "                      \"b\": \"choice here\",\n",
    "                      \"c\": \"choice here\",\n",
    "                      \"d\": \"choice here\",\n",
    "                  },\n",
    "                  \"correct\": \"correct answer here like a,b,c,d\",\n",
    "            },\n",
    "            \"2\": {\n",
    "                  \"question\": \"multiple choice question here\",\n",
    "                  \"options\": {\n",
    "                      \"a\": \"choice here\",\n",
    "                      \"b\": \"choice here\",\n",
    "                      \"c\": \"choice here\",\n",
    "                      \"d\": \"choice here\",\n",
    "                },\n",
    "                \"correct\": \"correct answer here like a,b,c,d\",\n",
    "            },\n",
    "      \"subjective\":{\n",
    "            \"1\": {\n",
    "                  \"question\": \"subjective question here\",\n",
    "                  \"expected_answer\": \"subjective answer here\",\n",
    "            },\n",
    "            \"2\": {\n",
    "                  \"question\": \"subjective question here\",\n",
    "                  \"expected_answer\": \"subjective answer here\",\n",
    "            },\n",
    "      }\n",
    "      }\"\"\""
   ]
  },
  {
   "cell_type": "code",
   "execution_count": 9,
   "metadata": {},
   "outputs": [
    {
     "data": {
      "text/plain": [
       "<langchain_text_splitters.character.RecursiveCharacterTextSplitter at 0x1b0e01f02f0>"
      ]
     },
     "execution_count": 9,
     "metadata": {},
     "output_type": "execute_result"
    }
   ],
   "source": [
    "text_splitter = RecursiveCharacterTextSplitter(chunk_size=1000, chunk_overlap=200)\n",
    "text_splitter"
   ]
  },
  {
   "cell_type": "code",
   "execution_count": 10,
   "metadata": {},
   "outputs": [
    {
     "data": {
      "text/plain": [
       "[Document(metadata={'producer': 'macOS Version 13.4.1 (c) (Build 22F770820d) Quartz PDFContext', 'creator': 'PyPDF', 'creationdate': \"D:20240829053237Z00'00'\", 'moddate': \"D:20240829053237Z00'00'\", 'source': '../Unit 1.4.pdf', 'total_pages': 11, 'page': 0, 'page_label': '1'}, page_content='Industrial Uses of Programming'),\n",
       " Document(metadata={'producer': 'macOS Version 13.4.1 (c) (Build 22F770820d) Quartz PDFContext', 'creator': 'PyPDF', 'creationdate': \"D:20240829053237Z00'00'\", 'moddate': \"D:20240829053237Z00'00'\", 'source': '../Unit 1.4.pdf', 'total_pages': 11, 'page': 1, 'page_label': '2'}, page_content='INDUSTRIAL USES OF PROGRAMMING •Scientific applications – typically require simple data structures but a large number of floating-point operations •– typical data structures: arrays and matrices; •typical control constructs: selection and loop – •earliest high-level language: FORTRAN •other language: ALGOL 60\\nRead about Python Applications in Industry: https://junilearning.com/blog/guide/what-is-python-used-for-major-industries/'),\n",
       " Document(metadata={'producer': 'macOS Version 13.4.1 (c) (Build 22F770820d) Quartz PDFContext', 'creator': 'PyPDF', 'creationdate': \"D:20240829053237Z00'00'\", 'moddate': \"D:20240829053237Z00'00'\", 'source': '../Unit 1.4.pdf', 'total_pages': 11, 'page': 2, 'page_label': '3'}, page_content='INDUSTRIAL USES OF PROGRAMMING •Business applications – requires preparation of detailed, complex reports and precise ways of handling decimal numbers and character data •– most popular language: COBOL•Systems programming applications – systems software is used almost continuously and so a language for systems programming must have fast execution. •– a language used for systems programming must have low-level featurs to access external devices. •– popular language: C (almost the whole of UNIX is written in C)'),\n",
       " Document(metadata={'producer': 'macOS Version 13.4.1 (c) (Build 22F770820d) Quartz PDFContext', 'creator': 'PyPDF', 'creationdate': \"D:20240829053237Z00'00'\", 'moddate': \"D:20240829053237Z00'00'\", 'source': '../Unit 1.4.pdf', 'total_pages': 11, 'page': 3, 'page_label': '4'}, page_content='INDUSTRIAL USES OF PROGRAMMING •Artificial intelligence applications •– requires symbolic rather than numeric processing •– typical data structure: linked list •– popular languages: LISP , PROLOG\\n•Website Development•Database querying'),\n",
       " Document(metadata={'producer': 'macOS Version 13.4.1 (c) (Build 22F770820d) Quartz PDFContext', 'creator': 'PyPDF', 'creationdate': \"D:20240829053237Z00'00'\", 'moddate': \"D:20240829053237Z00'00'\", 'source': '../Unit 1.4.pdf', 'total_pages': 11, 'page': 4, 'page_label': '5'}, page_content='IEEE SPECTRUM’S 2021 TOP LANGUAGES•Python: Behind your favorite website, Python is at work. Coders use this web-based basic scripting language to program the backend of websites like Y ouT ube, Instagram, Pinterest, and Quora.\\n•Java: Java places second on the list and for good reason — it can run on many devices. If you have an Android phone, all of your apps are running Java. Big data technologies are using Java as their language of choice because of its excellent capabilities of compiling and organizing data.'),\n",
       " Document(metadata={'producer': 'macOS Version 13.4.1 (c) (Build 22F770820d) Quartz PDFContext', 'creator': 'PyPDF', 'creationdate': \"D:20240829053237Z00'00'\", 'moddate': \"D:20240829053237Z00'00'\", 'source': '../Unit 1.4.pdf', 'total_pages': 11, 'page': 5, 'page_label': '6'}, page_content='•C: This language is one of the first high-level languages developed and is fast, structured, portable, and has a rich library. All of these features allow C to have applications across every domain in the world of programming. C is used in all the operating systems in your computer and your cellphone and even in programming robots.\\n•C++: This programming language is an object-oriented programming language that incorporates all the features of C. C++ is used for operating systems, games, embedded software, autonomous cars, and medical technology, as well as many other applications. Companies like Facebook and Google use C++.'),\n",
       " Document(metadata={'producer': 'macOS Version 13.4.1 (c) (Build 22F770820d) Quartz PDFContext', 'creator': 'PyPDF', 'creationdate': \"D:20240829053237Z00'00'\", 'moddate': \"D:20240829053237Z00'00'\", 'source': '../Unit 1.4.pdf', 'total_pages': 11, 'page': 6, 'page_label': '7'}, page_content='AUTOMOBILE SECTOR•there is CAD programming/automation , CFD automation, SAP , Excel programming (marco with VB), Matlab coding, Matlab GUI programming for tool development, Simulink and state flow•advent of driverless and other next generation vehicles will increase reliance on software code•C and C++ are the dominant programming languages in the automotive world. MISRA C, MISRA C++ and the AUTOSAR C++ Coding Guidelines are the main coding standards.https://www.expresscomputer.in/interviews/how-has-the-defence-sector-adopted-to-technology/61072/'),\n",
       " Document(metadata={'producer': 'macOS Version 13.4.1 (c) (Build 22F770820d) Quartz PDFContext', 'creator': 'PyPDF', 'creationdate': \"D:20240829053237Z00'00'\", 'moddate': \"D:20240829053237Z00'00'\", 'source': '../Unit 1.4.pdf', 'total_pages': 11, 'page': 7, 'page_label': '8'}, page_content='DEFENCE SECTOR•Python is a key asset in the toolbox of most Aerospace, Defense and Military (ADM) engineers•Cyber Security-military systems need to be hardened against cyberattacks, which can lead to loss of classified information and damage to defense systems•Modeling & Simulation - from wargaming simulation to modeling six degrees of freedom for aerial vehicles, there is a wide range of computer assisted engineering tasks that Python can help with. •Target Recognition - Identifying the position, behavior and friend/foe status of targets is essential to battlefield dominance.•Sensor Data Analysis/Visualization - airborne drones and battlefield sensors provide a wealth of information that must be analyzed in real time to be useful.•Equipment Diagnostics - all equipment eventually fails, but when it fails in combat the consequences can be deadly.\\nActivePython Enterprise Edition for mission critical applications'),\n",
       " Document(metadata={'producer': 'macOS Version 13.4.1 (c) (Build 22F770820d) Quartz PDFContext', 'creator': 'PyPDF', 'creationdate': \"D:20240829053237Z00'00'\", 'moddate': \"D:20240829053237Z00'00'\", 'source': '../Unit 1.4.pdf', 'total_pages': 11, 'page': 8, 'page_label': '9'}, page_content='HEALTHCARE: GOOD CODE, GOOD HEALTH•Django and Flask – The Python Frameworks•Health Knowledge Graphwhich is continuously enriched using natural language processing•Python also offers high-level security, thereby keeping all the data safe and secure•ease up the workload of hospitals by managing patients, doctors, and nurses with acombination of Python and data science•Image Analysis:  Body scans are an integral part of the healthcare sector. Scans and images like MRI, X-ray, and ECG, show the doctor what the naked eye can’t see and help in diagnosing the patient. Python, along with artificial intelligence and machine learning, can be leveraged by doctors to scan these images and diagnose patients with higher levels of accuracy.'),\n",
       " Document(metadata={'producer': 'macOS Version 13.4.1 (c) (Build 22F770820d) Quartz PDFContext', 'creator': 'PyPDF', 'creationdate': \"D:20240829053237Z00'00'\", 'moddate': \"D:20240829053237Z00'00'\", 'source': '../Unit 1.4.pdf', 'total_pages': 11, 'page': 9, 'page_label': '10'}, page_content='DATA ANALYTICS•Python is a great language when you want to analyze large sets of data usingmachine learning algorithmsto get meaningful insights. The programming language is often preferred by data scientists because of all of the extensive libraries available such as NumPy, Pandas, and SciPy.•Healthcare apps•Disease prediction and detection'),\n",
       " Document(metadata={'producer': 'macOS Version 13.4.1 (c) (Build 22F770820d) Quartz PDFContext', 'creator': 'PyPDF', 'creationdate': \"D:20240829053237Z00'00'\", 'moddate': \"D:20240829053237Z00'00'\", 'source': '../Unit 1.4.pdf', 'total_pages': 11, 'page': 10, 'page_label': '11'}, page_content='THINGS DON’T END HEREExplore more areas ………'),\n",
       " Document(metadata={'producer': 'macOS Version 13.4.1 (c) (Build 22F770820d) Quartz PDFContext', 'creator': 'PyPDF', 'creationdate': \"D:20240829053237Z00'00'\", 'moddate': \"D:20240829053237Z00'00'\", 'source': '../Unit 1.4 copy.pdf', 'total_pages': 11, 'page': 0, 'page_label': '1'}, page_content='Industrial Uses of Programming'),\n",
       " Document(metadata={'producer': 'macOS Version 13.4.1 (c) (Build 22F770820d) Quartz PDFContext', 'creator': 'PyPDF', 'creationdate': \"D:20240829053237Z00'00'\", 'moddate': \"D:20240829053237Z00'00'\", 'source': '../Unit 1.4 copy.pdf', 'total_pages': 11, 'page': 1, 'page_label': '2'}, page_content='INDUSTRIAL USES OF PROGRAMMING •Scientific applications – typically require simple data structures but a large number of floating-point operations •– typical data structures: arrays and matrices; •typical control constructs: selection and loop – •earliest high-level language: FORTRAN •other language: ALGOL 60\\nRead about Python Applications in Industry: https://junilearning.com/blog/guide/what-is-python-used-for-major-industries/'),\n",
       " Document(metadata={'producer': 'macOS Version 13.4.1 (c) (Build 22F770820d) Quartz PDFContext', 'creator': 'PyPDF', 'creationdate': \"D:20240829053237Z00'00'\", 'moddate': \"D:20240829053237Z00'00'\", 'source': '../Unit 1.4 copy.pdf', 'total_pages': 11, 'page': 2, 'page_label': '3'}, page_content='INDUSTRIAL USES OF PROGRAMMING •Business applications – requires preparation of detailed, complex reports and precise ways of handling decimal numbers and character data •– most popular language: COBOL•Systems programming applications – systems software is used almost continuously and so a language for systems programming must have fast execution. •– a language used for systems programming must have low-level featurs to access external devices. •– popular language: C (almost the whole of UNIX is written in C)'),\n",
       " Document(metadata={'producer': 'macOS Version 13.4.1 (c) (Build 22F770820d) Quartz PDFContext', 'creator': 'PyPDF', 'creationdate': \"D:20240829053237Z00'00'\", 'moddate': \"D:20240829053237Z00'00'\", 'source': '../Unit 1.4 copy.pdf', 'total_pages': 11, 'page': 3, 'page_label': '4'}, page_content='INDUSTRIAL USES OF PROGRAMMING •Artificial intelligence applications •– requires symbolic rather than numeric processing •– typical data structure: linked list •– popular languages: LISP , PROLOG\\n•Website Development•Database querying'),\n",
       " Document(metadata={'producer': 'macOS Version 13.4.1 (c) (Build 22F770820d) Quartz PDFContext', 'creator': 'PyPDF', 'creationdate': \"D:20240829053237Z00'00'\", 'moddate': \"D:20240829053237Z00'00'\", 'source': '../Unit 1.4 copy.pdf', 'total_pages': 11, 'page': 4, 'page_label': '5'}, page_content='IEEE SPECTRUM’S 2021 TOP LANGUAGES•Python: Behind your favorite website, Python is at work. Coders use this web-based basic scripting language to program the backend of websites like Y ouT ube, Instagram, Pinterest, and Quora.\\n•Java: Java places second on the list and for good reason — it can run on many devices. If you have an Android phone, all of your apps are running Java. Big data technologies are using Java as their language of choice because of its excellent capabilities of compiling and organizing data.'),\n",
       " Document(metadata={'producer': 'macOS Version 13.4.1 (c) (Build 22F770820d) Quartz PDFContext', 'creator': 'PyPDF', 'creationdate': \"D:20240829053237Z00'00'\", 'moddate': \"D:20240829053237Z00'00'\", 'source': '../Unit 1.4 copy.pdf', 'total_pages': 11, 'page': 5, 'page_label': '6'}, page_content='•C: This language is one of the first high-level languages developed and is fast, structured, portable, and has a rich library. All of these features allow C to have applications across every domain in the world of programming. C is used in all the operating systems in your computer and your cellphone and even in programming robots.\\n•C++: This programming language is an object-oriented programming language that incorporates all the features of C. C++ is used for operating systems, games, embedded software, autonomous cars, and medical technology, as well as many other applications. Companies like Facebook and Google use C++.'),\n",
       " Document(metadata={'producer': 'macOS Version 13.4.1 (c) (Build 22F770820d) Quartz PDFContext', 'creator': 'PyPDF', 'creationdate': \"D:20240829053237Z00'00'\", 'moddate': \"D:20240829053237Z00'00'\", 'source': '../Unit 1.4 copy.pdf', 'total_pages': 11, 'page': 6, 'page_label': '7'}, page_content='AUTOMOBILE SECTOR•there is CAD programming/automation , CFD automation, SAP , Excel programming (marco with VB), Matlab coding, Matlab GUI programming for tool development, Simulink and state flow•advent of driverless and other next generation vehicles will increase reliance on software code•C and C++ are the dominant programming languages in the automotive world. MISRA C, MISRA C++ and the AUTOSAR C++ Coding Guidelines are the main coding standards.https://www.expresscomputer.in/interviews/how-has-the-defence-sector-adopted-to-technology/61072/'),\n",
       " Document(metadata={'producer': 'macOS Version 13.4.1 (c) (Build 22F770820d) Quartz PDFContext', 'creator': 'PyPDF', 'creationdate': \"D:20240829053237Z00'00'\", 'moddate': \"D:20240829053237Z00'00'\", 'source': '../Unit 1.4 copy.pdf', 'total_pages': 11, 'page': 7, 'page_label': '8'}, page_content='DEFENCE SECTOR•Python is a key asset in the toolbox of most Aerospace, Defense and Military (ADM) engineers•Cyber Security-military systems need to be hardened against cyberattacks, which can lead to loss of classified information and damage to defense systems•Modeling & Simulation - from wargaming simulation to modeling six degrees of freedom for aerial vehicles, there is a wide range of computer assisted engineering tasks that Python can help with. •Target Recognition - Identifying the position, behavior and friend/foe status of targets is essential to battlefield dominance.•Sensor Data Analysis/Visualization - airborne drones and battlefield sensors provide a wealth of information that must be analyzed in real time to be useful.•Equipment Diagnostics - all equipment eventually fails, but when it fails in combat the consequences can be deadly.\\nActivePython Enterprise Edition for mission critical applications'),\n",
       " Document(metadata={'producer': 'macOS Version 13.4.1 (c) (Build 22F770820d) Quartz PDFContext', 'creator': 'PyPDF', 'creationdate': \"D:20240829053237Z00'00'\", 'moddate': \"D:20240829053237Z00'00'\", 'source': '../Unit 1.4 copy.pdf', 'total_pages': 11, 'page': 8, 'page_label': '9'}, page_content='HEALTHCARE: GOOD CODE, GOOD HEALTH•Django and Flask – The Python Frameworks•Health Knowledge Graphwhich is continuously enriched using natural language processing•Python also offers high-level security, thereby keeping all the data safe and secure•ease up the workload of hospitals by managing patients, doctors, and nurses with acombination of Python and data science•Image Analysis:  Body scans are an integral part of the healthcare sector. Scans and images like MRI, X-ray, and ECG, show the doctor what the naked eye can’t see and help in diagnosing the patient. Python, along with artificial intelligence and machine learning, can be leveraged by doctors to scan these images and diagnose patients with higher levels of accuracy.'),\n",
       " Document(metadata={'producer': 'macOS Version 13.4.1 (c) (Build 22F770820d) Quartz PDFContext', 'creator': 'PyPDF', 'creationdate': \"D:20240829053237Z00'00'\", 'moddate': \"D:20240829053237Z00'00'\", 'source': '../Unit 1.4 copy.pdf', 'total_pages': 11, 'page': 9, 'page_label': '10'}, page_content='DATA ANALYTICS•Python is a great language when you want to analyze large sets of data usingmachine learning algorithmsto get meaningful insights. The programming language is often preferred by data scientists because of all of the extensive libraries available such as NumPy, Pandas, and SciPy.•Healthcare apps•Disease prediction and detection'),\n",
       " Document(metadata={'producer': 'macOS Version 13.4.1 (c) (Build 22F770820d) Quartz PDFContext', 'creator': 'PyPDF', 'creationdate': \"D:20240829053237Z00'00'\", 'moddate': \"D:20240829053237Z00'00'\", 'source': '../Unit 1.4 copy.pdf', 'total_pages': 11, 'page': 10, 'page_label': '11'}, page_content='THINGS DON’T END HEREExplore more areas ………')]"
      ]
     },
     "execution_count": 10,
     "metadata": {},
     "output_type": "execute_result"
    }
   ],
   "source": [
    "splitted_docs = text_splitter.split_documents(doc)\n",
    "splitted_docs"
   ]
  },
  {
   "cell_type": "code",
   "execution_count": 22,
   "metadata": {},
   "outputs": [],
   "source": [
    "prompt_text=\"\"\"\n",
    "            Text:{text}\n",
    "            You are an expert MCQ and Subjective question maker. Given the above text, it is your job to\n",
    "            create a quiz  of {mcq_number} multiple choice questions and {subjective_number} subjective questions for students. \n",
    "            Make sure to format your response like  RESPONSE_JSON below  and use it as a guide.\n",
    "            ### RESPONSE_JSON\n",
    "            {RESPONSE_JSON}\"\"\""
   ]
  },
  {
   "cell_type": "code",
   "execution_count": 41,
   "metadata": {},
   "outputs": [],
   "source": [
    "from typing import List\n",
    "def generate_mcq_question_based_on_documents(file_path:str, no_of_mcqs: int, no_of_subjective: int):\n",
    "    text=''.join([item.page_content for item in get_documents(file_path)])\n",
    "    prompt = PromptTemplate.from_template(template=prompt_text, partial_variables={\"RESPONSE_JSON\": RESPONSE_JSON})\n",
    "    chain = LLMChain(llm=llm, prompt=prompt, output_parser=JsonOutputParser())\n",
    "    return chain.invoke({\"text\":text,\"mcq_number\":no_of_mcqs,\"subjective_number\":no_of_subjective,\"response_json\":RESPONSE_JSON})"
   ]
  },
  {
   "cell_type": "code",
   "execution_count": 19,
   "metadata": {},
   "outputs": [
    {
     "data": {
      "text/plain": [
       "22"
      ]
     },
     "execution_count": 19,
     "metadata": {},
     "output_type": "execute_result"
    }
   ],
   "source": [
    "len(doc)"
   ]
  },
  {
   "cell_type": "code",
   "execution_count": 35,
   "metadata": {},
   "outputs": [
    {
     "name": "stderr",
     "output_type": "stream",
     "text": [
      "Ignoring wrong pointing object 7 0 (offset 0)\n",
      "Ignoring wrong pointing object 18 0 (offset 0)\n",
      "Ignoring wrong pointing object 21 0 (offset 0)\n",
      "Ignoring wrong pointing object 35 0 (offset 0)\n",
      "Ignoring wrong pointing object 38 0 (offset 0)\n",
      "Ignoring wrong pointing object 41 0 (offset 0)\n",
      "Ignoring wrong pointing object 50 0 (offset 0)\n",
      "Ignoring wrong pointing object 78 0 (offset 0)\n"
     ]
    },
    {
     "data": {
      "text/plain": [
       "'Industrial Uses of Programming'"
      ]
     },
     "execution_count": 35,
     "metadata": {},
     "output_type": "execute_result"
    }
   ],
   "source": [
    "get_documents(doc)[0].page_content"
   ]
  },
  {
   "cell_type": "code",
   "execution_count": 36,
   "metadata": {},
   "outputs": [
    {
     "name": "stderr",
     "output_type": "stream",
     "text": [
      "Ignoring wrong pointing object 7 0 (offset 0)\n",
      "Ignoring wrong pointing object 18 0 (offset 0)\n",
      "Ignoring wrong pointing object 21 0 (offset 0)\n",
      "Ignoring wrong pointing object 35 0 (offset 0)\n",
      "Ignoring wrong pointing object 38 0 (offset 0)\n",
      "Ignoring wrong pointing object 41 0 (offset 0)\n",
      "Ignoring wrong pointing object 50 0 (offset 0)\n",
      "Ignoring wrong pointing object 78 0 (offset 0)\n"
     ]
    },
    {
     "data": {
      "text/plain": [
       "'Industrial Uses of ProgrammingINDUSTRIAL USES OF PROGRAMMING •Scientific applications – typically require simple data structures but a large number of floating-point operations •– typical data structures: arrays and matrices; •typical control constructs: selection and loop – •earliest high-level language: FORTRAN •other language: ALGOL 60\\nRead about Python Applications in Industry: https://junilearning.com/blog/guide/what-is-python-used-for-major-industries/INDUSTRIAL USES OF PROGRAMMING •Business applications – requires preparation of detailed, complex reports and precise ways of handling decimal numbers and character data •– most popular language: COBOL•Systems programming applications – systems software is used almost continuously and so a language for systems programming must have fast execution. •– a language used for systems programming must have low-level featurs to access external devices. •– popular language: C (almost the whole of UNIX is written in C)INDUSTRIAL USES OF PROGRAMMING •Artificial intelligence applications •– requires symbolic rather than numeric processing •– typical data structure: linked list •– popular languages: LISP , PROLOG\\n•Website Development•Database queryingIEEE SPECTRUM’S 2021 TOP LANGUAGES•Python: Behind your favorite website, Python is at work. Coders use this web-based basic scripting language to program the backend of websites like Y ouT ube, Instagram, Pinterest, and Quora.\\n•Java: Java places second on the list and for good reason — it can run on many devices. If you have an Android phone, all of your apps are running Java. Big data technologies are using Java as their language of choice because of its excellent capabilities of compiling and organizing data.•C: This language is one of the first high-level languages developed and is fast, structured, portable, and has a rich library. All of these features allow C to have applications across every domain in the world of programming. C is used in all the operating systems in your computer and your cellphone and even in programming robots.\\n•C++: This programming language is an object-oriented programming language that incorporates all the features of C. C++ is used for operating systems, games, embedded software, autonomous cars, and medical technology, as well as many other applications. Companies like Facebook and Google use C++.AUTOMOBILE SECTOR•there is CAD programming/automation , CFD automation, SAP , Excel programming (marco with VB), Matlab coding, Matlab GUI programming for tool development, Simulink and state flow•advent of driverless and other next generation vehicles will increase reliance on software code•C and C++ are the dominant programming languages in the automotive world. MISRA C, MISRA C++ and the AUTOSAR C++ Coding Guidelines are the main coding standards.https://www.expresscomputer.in/interviews/how-has-the-defence-sector-adopted-to-technology/61072/DEFENCE SECTOR•Python is a key asset in the toolbox of most Aerospace, Defense and Military (ADM) engineers•Cyber Security-military systems need to be hardened against cyberattacks, which can lead to loss of classified information and damage to defense systems•Modeling & Simulation - from wargaming simulation to modeling six degrees of freedom for aerial vehicles, there is a wide range of computer assisted engineering tasks that Python can help with. •Target Recognition - Identifying the position, behavior and friend/foe status of targets is essential to battlefield dominance.•Sensor Data Analysis/Visualization - airborne drones and battlefield sensors provide a wealth of information that must be analyzed in real time to be useful.•Equipment Diagnostics - all equipment eventually fails, but when it fails in combat the consequences can be deadly.\\nActivePython Enterprise Edition for mission critical applicationsHEALTHCARE: GOOD CODE, GOOD HEALTH•Django and Flask – The Python Frameworks•Health Knowledge Graphwhich is continuously enriched using natural language processing•Python also offers high-level security, thereby keeping all the data safe and secure•ease up the workload of hospitals by managing patients, doctors, and nurses with acombination of Python and data science•Image Analysis:  Body scans are an integral part of the healthcare sector. Scans and images like MRI, X-ray, and ECG, show the doctor what the naked eye can’t see and help in diagnosing the patient. Python, along with artificial intelligence and machine learning, can be leveraged by doctors to scan these images and diagnose patients with higher levels of accuracy.DATA ANALYTICS•Python is a great language when you want to analyze large sets of data usingmachine learning algorithmsto get meaningful insights. The programming language is often preferred by data scientists because of all of the extensive libraries available such as NumPy, Pandas, and SciPy.•Healthcare apps•Disease prediction and detectionTHINGS DON’T END HEREExplore more areas ………'"
      ]
     },
     "execution_count": 36,
     "metadata": {},
     "output_type": "execute_result"
    }
   ],
   "source": [
    "text=''.join([item.page_content for item in get_documents(doc)])\n",
    "text"
   ]
  },
  {
   "cell_type": "code",
   "execution_count": 37,
   "metadata": {},
   "outputs": [],
   "source": [
    "prompt = PromptTemplate.from_template(template=prompt_text, partial_variables={\"RESPONSE_JSON\": RESPONSE_JSON})"
   ]
  },
  {
   "cell_type": "code",
   "execution_count": 38,
   "metadata": {},
   "outputs": [],
   "source": [
    "chain = LLMChain(llm=llm, prompt=prompt, output_parser=JsonOutputParser())"
   ]
  },
  {
   "cell_type": "code",
   "execution_count": 39,
   "metadata": {},
   "outputs": [
    {
     "data": {
      "text/plain": [
       "{'text': {'mcq': {'1': {'question': 'Which programming language is primarily used for scientific applications?',\n",
       "    'options': {'a': 'Python', 'b': 'FORTRAN', 'c': 'Java', 'd': 'C++'},\n",
       "    'correct': 'b'},\n",
       "   '2': {'question': 'What is the most popular language for business applications?',\n",
       "    'options': {'a': 'Python', 'b': 'COBOL', 'c': 'Java', 'd': 'C'},\n",
       "    'correct': 'b'},\n",
       "   '3': {'question': 'Which programming language is known for its use in systems programming?',\n",
       "    'options': {'a': 'Python', 'b': 'C', 'c': 'Java', 'd': 'Ruby'},\n",
       "    'correct': 'b'},\n",
       "   '4': {'question': 'Which language is commonly used for artificial intelligence applications?',\n",
       "    'options': {'a': 'Python', 'b': 'LISP', 'c': 'Java', 'd': 'C++'},\n",
       "    'correct': 'b'},\n",
       "   '5': {'question': 'What is the primary programming language used in the automotive sector?',\n",
       "    'options': {'a': 'Python', 'b': 'C', 'c': 'Java', 'd': 'JavaScript'},\n",
       "    'correct': 'b'},\n",
       "   '6': {'question': 'Which Python framework is mentioned for use in healthcare applications?',\n",
       "    'options': {'a': 'Flask',\n",
       "     'b': 'Django',\n",
       "     'c': 'Both a and b',\n",
       "     'd': 'None of the above'},\n",
       "    'correct': 'c'},\n",
       "   '7': {'question': 'What is a key application of Python in the defense sector?',\n",
       "    'options': {'a': 'Web Development',\n",
       "     'b': 'Modeling & Simulation',\n",
       "     'c': 'Game Development',\n",
       "     'd': 'Database Management'},\n",
       "    'correct': 'b'},\n",
       "   '8': {'question': 'Which programming language is primarily used for backend development of websites like YouTube?',\n",
       "    'options': {'a': 'Java', 'b': 'C++', 'c': 'Python', 'd': 'Ruby'},\n",
       "    'correct': 'c'},\n",
       "   '9': {'question': 'What is the main focus of data analytics using Python?',\n",
       "    'options': {'a': 'Web Design',\n",
       "     'b': 'Game Development',\n",
       "     'c': 'Analyzing large sets of data',\n",
       "     'd': 'Operating Systems'},\n",
       "    'correct': 'c'},\n",
       "   '10': {'question': 'Which programming language is used for developing mobile applications on Android?',\n",
       "    'options': {'a': 'Python', 'b': 'Java', 'c': 'C++', 'd': 'JavaScript'},\n",
       "    'correct': 'b'}},\n",
       "  'subjective': {'1': {'question': 'Explain the significance of Python in the healthcare sector.',\n",
       "    'expected_answer': 'Python is significant in the healthcare sector due to its frameworks like Django and Flask, which help manage patient data, enhance security, and facilitate image analysis for better diagnosis.'},\n",
       "   '2': {'question': 'Discuss the role of programming languages in the automotive industry.',\n",
       "    'expected_answer': 'In the automotive industry, programming languages like C and C++ are crucial for developing software for vehicle systems, including CAD programming, driverless technology, and adherence to coding standards like MISRA.'},\n",
       "   '3': {'question': 'What are the advantages of using Python for data analytics?',\n",
       "    'expected_answer': 'Python offers extensive libraries such as NumPy, Pandas, and SciPy, making it ideal for analyzing large datasets and implementing machine learning algorithms to derive meaningful insights.'},\n",
       "   '4': {'question': 'How does Python contribute to advancements in artificial intelligence?',\n",
       "    'expected_answer': 'Python contributes to AI through its simplicity and readability, along with libraries like TensorFlow and Keras, which facilitate the development of machine learning models and symbolic processing.'},\n",
       "   '5': {'question': 'Describe the importance of cybersecurity in the defense sector and how Python is utilized.',\n",
       "    'expected_answer': 'Cybersecurity is vital in the defense sector to protect sensitive information and systems from cyberattacks. Python is used for developing security protocols, analyzing threats, and ensuring the integrity of military systems.'},\n",
       "   '6': {'question': 'What are the typical data structures used in scientific applications?',\n",
       "    'expected_answer': 'Typical data structures used in scientific applications include arrays and matrices, which are essential for performing a large number of floating-point operations.'},\n",
       "   '7': {'question': 'Identify and explain two key applications of Python in the aerospace industry.',\n",
       "    'expected_answer': 'Two key applications of Python in the aerospace industry are modeling and simulation for flight dynamics and sensor data analysis for real-time decision-making in aerial operations.'},\n",
       "   '8': {'question': 'What are the main features of C that make it suitable for systems programming?',\n",
       "    'expected_answer': 'C is suitable for systems programming due to its fast execution, low-level features for hardware access, and a rich library that supports various system-level operations.'},\n",
       "   '9': {'question': 'How does Python facilitate image analysis in healthcare?',\n",
       "    'expected_answer': 'Python facilitates image analysis in healthcare by leveraging libraries that support image processing and machine learning, allowing for accurate diagnosis from scans like MRI and X-rays.'},\n",
       "   '10': {'question': 'Discuss the impact of programming languages on business applications.',\n",
       "    'expected_answer': 'Programming languages impact business applications by enabling the creation of complex reports, efficient data handling, and automation of business processes, with COBOL being a prominent example in legacy systems.'}}},\n",
       " 'mcq_number': 10,\n",
       " 'subjective_number': 10,\n",
       " 'response_json': '{\\n      \"mcq\":{\\n            \"1\": {\\n                  \"question\": \"multiple choice question here\",\\n                  \"options\": {\\n                      \"a\": \"choice here\",\\n                      \"b\": \"choice here\",\\n                      \"c\": \"choice here\",\\n                      \"d\": \"choice here\",\\n                  },\\n                  \"correct\": \"correct answer here like a,b,c,d\",\\n            },\\n            \"2\": {\\n                  \"question\": \"multiple choice question here\",\\n                  \"options\": {\\n                      \"a\": \"choice here\",\\n                      \"b\": \"choice here\",\\n                      \"c\": \"choice here\",\\n                      \"d\": \"choice here\",\\n                },\\n                \"correct\": \"correct answer here like a,b,c,d\",\\n            },\\n      \"subjective\":{\\n            \"1\": {\\n                  \"question\": \"subjective question here\",\\n                  \"expected_answer\": \"subjective answer here\",\\n            },\\n            \"2\": {\\n                  \"question\": \"subjective question here\",\\n                  \"expected_answer\": \"subjective answer here\",\\n            },\\n      }\\n      }'}"
      ]
     },
     "execution_count": 39,
     "metadata": {},
     "output_type": "execute_result"
    }
   ],
   "source": [
    "response=chain.invoke({\"text\":text,\"mcq_number\":10,\"subjective_number\":10,\"response_json\":RESPONSE_JSON})\n",
    "response\n"
   ]
  },
  {
   "cell_type": "code",
   "execution_count": null,
   "metadata": {},
   "outputs": [],
   "source": [
    "text=''.join([item.page_content for item in get_documents(doc)])\n",
    "prompt = PromptTemplate.from_template(template=prompt_text, partial_variables={\"RESPONSE_JSON\": RESPONSE_JSON})\n",
    "chain = LLMChain(llm=llm, prompt=prompt, output_parser=JsonOutputParser())\n",
    "chain.invoke({\"text\":text,\"mcq_number\":10,\"subjective_number\":10,\"response_json\":RESPONSE_JSON})"
   ]
  },
  {
   "cell_type": "code",
   "execution_count": 31,
   "metadata": {},
   "outputs": [
    {
     "name": "stderr",
     "output_type": "stream",
     "text": [
      "Ignoring wrong pointing object 7 0 (offset 0)\n",
      "Ignoring wrong pointing object 18 0 (offset 0)\n",
      "Ignoring wrong pointing object 21 0 (offset 0)\n",
      "Ignoring wrong pointing object 35 0 (offset 0)\n",
      "Ignoring wrong pointing object 38 0 (offset 0)\n",
      "Ignoring wrong pointing object 41 0 (offset 0)\n",
      "Ignoring wrong pointing object 50 0 (offset 0)\n",
      "Ignoring wrong pointing object 78 0 (offset 0)\n"
     ]
    },
    {
     "ename": "TypeError",
     "evalue": "the JSON object must be str, bytes or bytearray, not dict",
     "output_type": "error",
     "traceback": [
      "\u001b[31m---------------------------------------------------------------------------\u001b[39m",
      "\u001b[31mTypeError\u001b[39m                                 Traceback (most recent call last)",
      "\u001b[36mCell\u001b[39m\u001b[36m \u001b[39m\u001b[32mIn[31]\u001b[39m\u001b[32m, line 1\u001b[39m\n\u001b[32m----> \u001b[39m\u001b[32m1\u001b[39m \u001b[43mgenerate_mcq_question_based_on_documents\u001b[49m\u001b[43m(\u001b[49m\u001b[43mdoc\u001b[49m\u001b[43m,\u001b[49m\u001b[32;43m10\u001b[39;49m\u001b[43m,\u001b[49m\u001b[32;43m10\u001b[39;49m\u001b[43m)\u001b[49m\n",
      "\u001b[36mCell\u001b[39m\u001b[36m \u001b[39m\u001b[32mIn[30]\u001b[39m\u001b[32m, line 7\u001b[39m, in \u001b[36mgenerate_mcq_question_based_on_documents\u001b[39m\u001b[34m(file_path, no_of_mcqs, no_of_subjective)\u001b[39m\n\u001b[32m      5\u001b[39m prompt = PromptTemplate.from_template(template=prompt_text, partial_variables={\u001b[33m\"\u001b[39m\u001b[33mRESPONSE_JSON\u001b[39m\u001b[33m\"\u001b[39m: RESPONSE_JSON})\n\u001b[32m      6\u001b[39m chain = LLMChain(llm=llm, prompt=prompt, output_parser=JsonOutputParser())\n\u001b[32m----> \u001b[39m\u001b[32m7\u001b[39m \u001b[38;5;28;01mreturn\u001b[39;00m \u001b[43mjson\u001b[49m\u001b[43m.\u001b[49m\u001b[43mloads\u001b[49m\u001b[43m(\u001b[49m\u001b[43mchain\u001b[49m\u001b[43m.\u001b[49m\u001b[43minvoke\u001b[49m\u001b[43m(\u001b[49m\u001b[43m{\u001b[49m\u001b[33;43m\"\u001b[39;49m\u001b[33;43mtext\u001b[39;49m\u001b[33;43m\"\u001b[39;49m\u001b[43m:\u001b[49m\u001b[43mtext\u001b[49m\u001b[43m,\u001b[49m\u001b[33;43m\"\u001b[39;49m\u001b[33;43mmcq_number\u001b[39;49m\u001b[33;43m\"\u001b[39;49m\u001b[43m:\u001b[49m\u001b[43mno_of_mcqs\u001b[49m\u001b[43m,\u001b[49m\u001b[33;43m\"\u001b[39;49m\u001b[33;43msubjective_number\u001b[39;49m\u001b[33;43m\"\u001b[39;49m\u001b[43m:\u001b[49m\u001b[43mno_of_subjective\u001b[49m\u001b[43m,\u001b[49m\u001b[33;43m\"\u001b[39;49m\u001b[33;43mresponse_json\u001b[39;49m\u001b[33;43m\"\u001b[39;49m\u001b[43m:\u001b[49m\u001b[43mRESPONSE_JSON\u001b[49m\u001b[43m}\u001b[49m\u001b[43m)\u001b[49m\u001b[43m)\u001b[49m\n",
      "\u001b[36mFile \u001b[39m\u001b[32mJ:\\Users\\ayush\\AppData\\Local\\Programs\\Python\\Python313\\Lib\\json\\__init__.py:339\u001b[39m, in \u001b[36mloads\u001b[39m\u001b[34m(s, cls, object_hook, parse_float, parse_int, parse_constant, object_pairs_hook, **kw)\u001b[39m\n\u001b[32m    337\u001b[39m \u001b[38;5;28;01melse\u001b[39;00m:\n\u001b[32m    338\u001b[39m     \u001b[38;5;28;01mif\u001b[39;00m \u001b[38;5;129;01mnot\u001b[39;00m \u001b[38;5;28misinstance\u001b[39m(s, (\u001b[38;5;28mbytes\u001b[39m, \u001b[38;5;28mbytearray\u001b[39m)):\n\u001b[32m--> \u001b[39m\u001b[32m339\u001b[39m         \u001b[38;5;28;01mraise\u001b[39;00m \u001b[38;5;167;01mTypeError\u001b[39;00m(\u001b[33mf\u001b[39m\u001b[33m'\u001b[39m\u001b[33mthe JSON object must be str, bytes or bytearray, \u001b[39m\u001b[33m'\u001b[39m\n\u001b[32m    340\u001b[39m                         \u001b[33mf\u001b[39m\u001b[33m'\u001b[39m\u001b[33mnot \u001b[39m\u001b[38;5;132;01m{\u001b[39;00ms.\u001b[34m__class__\u001b[39m.\u001b[34m__name__\u001b[39m\u001b[38;5;132;01m}\u001b[39;00m\u001b[33m'\u001b[39m)\n\u001b[32m    341\u001b[39m     s = s.decode(detect_encoding(s), \u001b[33m'\u001b[39m\u001b[33msurrogatepass\u001b[39m\u001b[33m'\u001b[39m)\n\u001b[32m    343\u001b[39m \u001b[38;5;28;01mif\u001b[39;00m (\u001b[38;5;28mcls\u001b[39m \u001b[38;5;129;01mis\u001b[39;00m \u001b[38;5;28;01mNone\u001b[39;00m \u001b[38;5;129;01mand\u001b[39;00m object_hook \u001b[38;5;129;01mis\u001b[39;00m \u001b[38;5;28;01mNone\u001b[39;00m \u001b[38;5;129;01mand\u001b[39;00m\n\u001b[32m    344\u001b[39m         parse_int \u001b[38;5;129;01mis\u001b[39;00m \u001b[38;5;28;01mNone\u001b[39;00m \u001b[38;5;129;01mand\u001b[39;00m parse_float \u001b[38;5;129;01mis\u001b[39;00m \u001b[38;5;28;01mNone\u001b[39;00m \u001b[38;5;129;01mand\u001b[39;00m\n\u001b[32m    345\u001b[39m         parse_constant \u001b[38;5;129;01mis\u001b[39;00m \u001b[38;5;28;01mNone\u001b[39;00m \u001b[38;5;129;01mand\u001b[39;00m object_pairs_hook \u001b[38;5;129;01mis\u001b[39;00m \u001b[38;5;28;01mNone\u001b[39;00m \u001b[38;5;129;01mand\u001b[39;00m \u001b[38;5;129;01mnot\u001b[39;00m kw):\n",
      "\u001b[31mTypeError\u001b[39m: the JSON object must be str, bytes or bytearray, not dict"
     ]
    }
   ],
   "source": [
    "generate_mcq_question_based_on_documents(doc,10,10)"
   ]
  },
  {
   "cell_type": "code",
   "execution_count": null,
   "metadata": {},
   "outputs": [],
   "source": []
  }
 ],
 "metadata": {
  "kernelspec": {
   "display_name": ".venv",
   "language": "python",
   "name": "python3"
  },
  "language_info": {
   "codemirror_mode": {
    "name": "ipython",
    "version": 3
   },
   "file_extension": ".py",
   "mimetype": "text/x-python",
   "name": "python",
   "nbconvert_exporter": "python",
   "pygments_lexer": "ipython3",
   "version": "3.13.2"
  }
 },
 "nbformat": 4,
 "nbformat_minor": 2
}
